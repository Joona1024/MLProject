{
 "cells": [
  {
   "cell_type": "code",
   "execution_count": 8,
   "id": "7ab6d02b-fa79-4904-8bdf-935de03bae28",
   "metadata": {
    "tags": []
   },
   "outputs": [],
   "source": [
    "import pandas as pd\n",
    "import seaborn as sns\n",
    "import matplotlib.pyplot as plt\n",
    "import numpy as np\n",
    "from sklearn.model_selection import train_test_split\n",
    "\n",
    "\n",
    "#DISPLAYING THE FEATURES IN A HEATMAP\n",
    "\n",
    "\n",
    "# Step 1: Load the dataset\n",
    "df = pd.read_csv(\"Aemf1.csv\")\n",
    "\n",
    "# Step 2: Drop unnecessary columns\n",
    "df = df.drop(columns=[\"Attraction Index\", \"Restraunt Index\", \"Private Room\"])\n",
    "\n",
    "# Step 3: Map city names to index\n",
    "city_mapping = {\n",
    "    'Berlin': 0,\n",
    "    'Amsterdam': 1,\n",
    "    'Vienna': 2,\n",
    "    'Paris': 3,\n",
    "    'Budapest': 4,\n",
    "    'Barcelona': 5,\n",
    "    'Rome': 6,\n",
    "    'Lisbon': 7,\n",
    "    'Athens': 8\n",
    "}\n",
    "df[\"City\"] = df[\"City\"].map(city_mapping)\n",
    "\n",
    "# Step 4: Convert categorical features to binary\n",
    "df[\"Room_type\"] = df[\"Room Type\"].apply(lambda x: 1 if x == \"Private room\" else 0)\n",
    "df[\"Day\"] = df[\"Day\"].apply(lambda x: 1 if x == \"Weekday\" else 0)\n",
    "df[\"Shared_room\"] = df[\"Shared Room\"].astype(int)\n",
    "df[\"Superhost\"] = df[\"Superhost\"].astype(int)\n",
    "\n",
    "# Step 5: Drop the original textual columns\n",
    "df = df.drop(columns=[\"Room Type\", \"Shared Room\"])\n"
   ]
  },
  {
   "cell_type": "code",
   "execution_count": 9,
   "id": "4c000c4d-eeb2-464b-ab9f-259e56eb3325",
   "metadata": {
    "tags": []
   },
   "outputs": [],
   "source": [
    "# PRICE HISTOGRAM, HIGH PRICES\n",
    "\n",
    "# Step 1: Select only listings with a price over 2000€\n",
    "\n",
    "prices2 = df[(df['Price'] > 2000)]['Price']\n",
    "\n"
   ]
  },
  {
   "cell_type": "code",
   "execution_count": 10,
   "id": "da7242a2-5c26-4cbd-bc51-2932c20672b9",
   "metadata": {
    "tags": []
   },
   "outputs": [],
   "source": [
    "#DATASET CLEANUP\n",
    "\n",
    "# Step 1: Clean the data\n",
    "df = df[df['Price'] <= 5000] #remove prices over 5000€\n",
    "df_cleaned = df.dropna() #remove all rows with at least one null value\n",
    "\n"
   ]
  },
  {
   "cell_type": "code",
   "execution_count": 11,
   "id": "2ed7c04e-c95d-42e0-9e03-d6083221e499",
   "metadata": {
    "tags": []
   },
   "outputs": [],
   "source": [
    "\n",
    "# CREATING SCATTERPLOTS FROM NON-BINARY DATA\n",
    "\n",
    "# Step 1: Define binary columns (based on earlier preprocessing)\n",
    "binary_columns = ['Room_type', 'Day', 'Shared_room', 'Superhost', 'Multiple Rooms', 'Business']\n",
    "\n",
    "# Step 2: Get all numeric columns\n",
    "all_numeric_columns = df_cleaned.select_dtypes(include=[np.number]).columns.tolist()\n",
    "\n",
    "# Step 3: Select numeric non-binary features (exclude target and binaries)\n",
    "features_to_plot = [col for col in all_numeric_columns if col not in binary_columns + ['Price']]\n",
    "\n"
   ]
  },
  {
   "cell_type": "code",
   "execution_count": 12,
   "id": "289f1734-85fd-459e-979e-9ea78b541cc7",
   "metadata": {
    "tags": []
   },
   "outputs": [
    {
     "name": "stdout",
     "output_type": "stream",
     "text": [
      "Train set: (31275, 15) (31275,)\n",
      "Validation set: (6255, 15) (6255,)\n",
      "Test set: (4170, 15) (4170,)\n"
     ]
    }
   ],
   "source": [
    "# Features = all except Price\n",
    "X = df_cleaned.drop(columns=['Price'])\n",
    "\n",
    "# Label = Price (continuous)\n",
    "y = df_cleaned['Price']\n",
    "\n",
    "# Split Train (75%) vs Temp (25%)\n",
    "X_train, X_temp, y_train, y_temp = train_test_split(\n",
    "    X, y, test_size=0.25, random_state=42, shuffle=True\n",
    ")\n",
    "\n",
    "# Split Temp (25%) into Validation (15%) and Test (10%)\n",
    "X_val, X_test, y_val, y_test = train_test_split(\n",
    "    X_temp, y_temp, test_size=0.4, random_state=42, shuffle=True\n",
    ")\n",
    "\n",
    "print(\"Train set:\", X_train.shape, y_train.shape)\n",
    "print(\"Validation set:\", X_val.shape, y_val.shape)\n",
    "print(\"Test set:\", X_test.shape, y_test.shape)\n"
   ]
  },
  {
   "cell_type": "code",
   "execution_count": null,
   "id": "ab2e918f-0103-4085-a0cf-8a7d67ac93d6",
   "metadata": {},
   "outputs": [],
   "source": []
  },
  {
   "cell_type": "code",
   "execution_count": null,
   "id": "8aafc7ea-d47c-4f85-960a-d17d3b5ec128",
   "metadata": {},
   "outputs": [],
   "source": []
  },
  {
   "cell_type": "code",
   "execution_count": null,
   "id": "73e92070-c28d-4495-866a-3566ba782367",
   "metadata": {},
   "outputs": [],
   "source": []
  }
 ],
 "metadata": {
  "kernelspec": {
   "display_name": "Python 3",
   "language": "python",
   "name": "python3"
  },
  "language_info": {
   "codemirror_mode": {
    "name": "ipython",
    "version": 3
   },
   "file_extension": ".py",
   "mimetype": "text/x-python",
   "name": "python",
   "nbconvert_exporter": "python",
   "pygments_lexer": "ipython3",
   "version": "3.10.12"
  }
 },
 "nbformat": 4,
 "nbformat_minor": 5
}
